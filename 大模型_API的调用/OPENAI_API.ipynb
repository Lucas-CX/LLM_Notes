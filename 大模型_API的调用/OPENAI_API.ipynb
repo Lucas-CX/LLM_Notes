{
 "cells": [
  {
   "cell_type": "code",
   "execution_count": 1,
   "metadata": {},
   "outputs": [],
   "source": [
    "import os\n",
    "from openai import OpenAI\n",
    "from dotenv import load_dotenv, find_dotenv\n",
    "\n",
    "\n",
    "# 如果你设置的是全局的环境变量，这行代码则没有任何作用。\n",
    "_ = load_dotenv(find_dotenv())\n",
    "\n",
    "client = OpenAI(\n",
    "    # This is the default and can be omitted\n",
    "    # 获取环境变量 OPENAI_API_KEY\n",
    "    api_key=os.environ.get(\"OPENAI_API_KEY\"),\n",
    "    # 访问api的网址,中转api需设置\n",
    "    base_url=os.environ.get(\"OPENAI_BASE_URL\")\n",
    ")\n",
    "\n",
    "# 如果你需要通过代理端口访问，还需要做如下配置\n",
    "# os.environ['HTTPS_PROXY'] = 'http://127.0.0.1:7897'\n",
    "# os.environ[\"HTTP_PROXY\"] = 'http://127.0.0.1:7897'\n",
    "\n",
    "# 一个封装 OpenAI 接口的函数，参数为 Prompt，返回对应结果\n",
    "def get_completion(prompt,\n",
    "                   model=\"gpt-3.5-turbo\"\n",
    "                   ):\n",
    "    '''\n",
    "    prompt: 对应的提示词\n",
    "    model: 调用的模型，默认为 gpt-3.5-turbo(ChatGPT)。你也可以选择其他模型。\n",
    "           https://platform.openai.com/docs/models/overview\n",
    "    '''\n",
    "\n",
    "    messages = [{\"role\": \"user\", \"content\": prompt}]\n",
    "\n",
    "    # 调用 OpenAI 的 ChatCompletion 接口\n",
    "    response = client.chat.completions.create(\n",
    "        model=model,\n",
    "        messages=messages,\n",
    "        temperature=0\n",
    "    )\n",
    "\n",
    "    return response.choices[0].message.content"
   ]
  },
  {
   "cell_type": "code",
   "execution_count": 2,
   "metadata": {},
   "outputs": [
    {
     "name": "stdout",
     "output_type": "stream",
     "text": [
      "你好！有什么我可以帮助你的吗？\n"
     ]
    }
   ],
   "source": [
    "prompt = f'''\n",
    "你好！\n",
    "'''\n",
    "\n",
    "# 调用 OpenAI\n",
    "response = get_completion(prompt)\n",
    "print(response)"
   ]
  }
 ],
 "metadata": {
  "kernelspec": {
   "display_name": "llm-universe",
   "language": "python",
   "name": "python3"
  },
  "language_info": {
   "codemirror_mode": {
    "name": "ipython",
    "version": 3
   },
   "file_extension": ".py",
   "mimetype": "text/x-python",
   "name": "python",
   "nbconvert_exporter": "python",
   "pygments_lexer": "ipython3",
   "version": "3.10.14"
  }
 },
 "nbformat": 4,
 "nbformat_minor": 2
}
